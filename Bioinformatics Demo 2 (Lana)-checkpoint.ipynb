{
 "cells": [
  {
   "cell_type": "code",
   "execution_count": 1,
   "id": "ca4c1b23",
   "metadata": {},
   "outputs": [],
   "source": [
    "from Bio import SeqIO"
   ]
  },
  {
   "cell_type": "markdown",
   "id": "e8bbe057",
   "metadata": {},
   "source": [
    "### Calculating GC content"
   ]
  },
  {
   "cell_type": "code",
   "execution_count": 3,
   "id": "bf416e09",
   "metadata": {},
   "outputs": [
    {
     "name": "stdout",
     "output_type": "stream",
     "text": [
      "max_seq_id: NC_000023.11:c130165841-130129362\n",
      "max_GC_content: 45.44110399211434\n"
     ]
    }
   ],
   "source": [
    "max_seq_id = None\n",
    "max_GC_content = 0\n",
    "\n",
    "for seq_record in SeqIO.parse('Homo_sapiens_chromosome_X.fasta', 'fasta'):\n",
    "    sequence = str(seq_record.seq)\n",
    "    sequence_id = seq_record.id\n",
    "    GC_content = (sequence.count('G') + sequence.count('C')) / len(sequence) * 100\n",
    "    if GC_content > max_GC_content:\n",
    "        max_seq_id = sequence_id\n",
    "        max_GC_content = GC_content\n",
    "print(f'max_seq_id: {max_seq_id}')\n",
    "print(f'max_GC_content: {max_GC_content}')"
   ]
  },
  {
   "cell_type": "code",
   "execution_count": 7,
   "id": "e4aa7bb6",
   "metadata": {},
   "outputs": [
    {
     "name": "stdout",
     "output_type": "stream",
     "text": [
      "ATCCATCTCTTTGCATACACTTGTTCTTTGTCCTTTGGCCGTGCACCAAAGTATGACATCATCTGCCTTTAAAAATGGGTGAGGGTAGTGTTAAATTTTCAAAAAGAAGTTCTGATACTCTCATTTTAGGAATTAACTCTGTTTTGTGGCTTGATTCCTAACTGCTTTTAATCTGATTTCTTTTTCATGTAGTAGCATCTACCGTGTGTTTTTGCACAGGTGGGAAAGAGCAAGGTTCGTTTATACACCATTTCTCCCTCCACCTTACCTTTAAACTTTTTTTTTTTTTTTTTTTTGAGGCGGAGTCTCGCTCAGTTTCCCAGAGTGCAGTGGCACGATCTTGGCTCACTGCAACCTCTGCCTGCTGGGTTCAAGCAATTCTCCTGCGTCAGCCTCCCAA\n"
     ]
    }
   ],
   "source": [
    "print(sequence[:400])"
   ]
  },
  {
   "cell_type": "code",
   "execution_count": 8,
   "id": "88698ff2",
   "metadata": {},
   "outputs": [
    {
     "data": {
      "text/plain": [
       "str"
      ]
     },
     "execution_count": 8,
     "metadata": {},
     "output_type": "execute_result"
    }
   ],
   "source": [
    "type(sequence)"
   ]
  },
  {
   "cell_type": "markdown",
   "id": "f679b864",
   "metadata": {},
   "source": [
    "### Comparing time taken for parse functionality and simple fasta parser"
   ]
  },
  {
   "cell_type": "code",
   "execution_count": 9,
   "id": "be15f5dd",
   "metadata": {},
   "outputs": [],
   "source": [
    "from Bio.SeqIO.FastaIO import SimpleFastaParser\n",
    "import time"
   ]
  },
  {
   "cell_type": "code",
   "execution_count": 17,
   "id": "0b4e3b8c",
   "metadata": {},
   "outputs": [
    {
     "name": "stdout",
     "output_type": "stream",
     "text": [
      "Time taken: 0.0\n",
      "Total sequences: 2\n"
     ]
    }
   ],
   "source": [
    "start = time.time()\n",
    "count = 0\n",
    "with open('Homo_sapiens_chromosome_X.fasta') as handle:\n",
    "    for seq_id, seq in SimpleFastaParser(handle):\n",
    "        count += 1\n",
    "end = time.time()\n",
    "print(f'Time taken: {end - start}')\n",
    "print(f'Total sequences: {count}')"
   ]
  },
  {
   "cell_type": "code",
   "execution_count": 18,
   "id": "7e748e89",
   "metadata": {},
   "outputs": [
    {
     "name": "stdout",
     "output_type": "stream",
     "text": [
      "Time taken: 0.0\n",
      "Total sequences: 2\n"
     ]
    }
   ],
   "source": [
    "start = time.time()\n",
    "count = 0\n",
    "for sequence in SeqIO.parse('Homo_sapiens_chromosome_X.fasta', 'fasta'):\n",
    "        count += 1\n",
    "end = time.time()\n",
    "print(f'Time taken: {end - start}')\n",
    "print(f'Total sequences: {count}')"
   ]
  },
  {
   "cell_type": "code",
   "execution_count": 19,
   "id": "6c200673",
   "metadata": {},
   "outputs": [],
   "source": [
    "from Bio.Seq import Seq"
   ]
  },
  {
   "cell_type": "code",
   "execution_count": 7,
   "id": "3b635a31",
   "metadata": {},
   "outputs": [
    {
     "name": "stdout",
     "output_type": "stream",
     "text": [
      "ATTGCATAGCTCATGCATAGTAATGCCTGACTCATATATTGCATAGCTCATGCATCAAGTGCATCAAGGCATCAAG\n"
     ]
    }
   ],
   "source": [
    "sequence = Seq('ATTGCATAGCTCATGCATAGTAATGCCTGACTCATATATTGCATAGCTCATGCATCAAGTGCATCAAGGCATCAAG')\n",
    "print(sequence)"
   ]
  },
  {
   "cell_type": "code",
   "execution_count": 8,
   "id": "40b1bc0c",
   "metadata": {},
   "outputs": [
    {
     "name": "stdout",
     "output_type": "stream",
     "text": [
      "TAACGTATCGAGTACGTATCATTACGGACTGAGTATATAACGTATCGAGTACGTAGTTCACGTAGTTCCGTAGTTC\n"
     ]
    }
   ],
   "source": [
    "print(sequence.complement())"
   ]
  },
  {
   "cell_type": "code",
   "execution_count": 9,
   "id": "523b19a3",
   "metadata": {},
   "outputs": [
    {
     "name": "stdout",
     "output_type": "stream",
     "text": [
      "CTTGATGCCTTGATGCACTTGATGCATGAGCTATGCAATATATGAGTCAGGCATTACTATGCATGAGCTATGCAAT\n"
     ]
    }
   ],
   "source": [
    "print(sequence.reverse_complement())"
   ]
  },
  {
   "cell_type": "code",
   "execution_count": 10,
   "id": "0ac66b69",
   "metadata": {},
   "outputs": [
    {
     "name": "stdout",
     "output_type": "stream",
     "text": [
      "UAACGUAUCGAGUACGUAUCAUUACGGACUGAGUAUAUAACGUAUCGAGUACGUAGUUCACGUAGUUCCGUAGUUC\n"
     ]
    }
   ],
   "source": [
    "print(sequence.complement_rna())"
   ]
  },
  {
   "cell_type": "code",
   "execution_count": 21,
   "id": "10ce4c82",
   "metadata": {},
   "outputs": [],
   "source": [
    "seq1 = Seq('AAAA')"
   ]
  },
  {
   "cell_type": "code",
   "execution_count": 22,
   "id": "34e3eecb",
   "metadata": {},
   "outputs": [
    {
     "data": {
      "text/plain": [
       "2"
      ]
     },
     "execution_count": 22,
     "metadata": {},
     "output_type": "execute_result"
    }
   ],
   "source": [
    "seq1.count('AA') #we have two non-overlapping AA in the sequence"
   ]
  },
  {
   "cell_type": "code",
   "execution_count": 13,
   "id": "2cae62c3",
   "metadata": {},
   "outputs": [
    {
     "data": {
      "text/plain": [
       "3"
      ]
     },
     "execution_count": 13,
     "metadata": {},
     "output_type": "execute_result"
    }
   ],
   "source": [
    "seq1.count_overlap('AA') #we have three overlapping AA in the sequence"
   ]
  },
  {
   "cell_type": "code",
   "execution_count": 24,
   "id": "c924c2ff",
   "metadata": {},
   "outputs": [],
   "source": [
    "from Bio.SeqUtils import GC"
   ]
  },
  {
   "cell_type": "code",
   "execution_count": 25,
   "id": "a21daedc",
   "metadata": {},
   "outputs": [
    {
     "name": "stdout",
     "output_type": "stream",
     "text": [
      "ID: NC_000023.11:c130165841-130129363\n",
      "Name: NC_000023.11:c130165841-130129363\n",
      "Description: NC_000023.11:c130165841-130129363 Homo sapiens chromosome X, GRCh38.p14 Primary Assembly\n",
      "Number of features: 0\n",
      "Seq('ATCCATCTCTTTGCATACACTTGTTCTTTGTCCTTTGGCCGTGCACCAAAGTAT...TAA')\n"
     ]
    }
   ],
   "source": [
    "print(sequence)"
   ]
  },
  {
   "cell_type": "code",
   "execution_count": 27,
   "id": "ec340a3b",
   "metadata": {},
   "outputs": [
    {
     "data": {
      "text/plain": [
       "40.08138351983723"
      ]
     },
     "execution_count": 27,
     "metadata": {},
     "output_type": "execute_result"
    }
   ],
   "source": [
    "GC(sequence.seq)"
   ]
  },
  {
   "cell_type": "code",
   "execution_count": 28,
   "id": "e6f134b7",
   "metadata": {},
   "outputs": [
    {
     "name": "stdout",
     "output_type": "stream",
     "text": [
      "45.44110399211434\n",
      "1966\n"
     ]
    }
   ],
   "source": [
    "max_GC_content = 0\n",
    "for seq_record in SeqIO.parse('Homo_sapiens_chromosome_X.fasta', 'fasta'):\n",
    "    if GC(seq_record.seq) > max_GC_content:\n",
    "        max_GC_content = GC(seq_record.seq)\n",
    "print(max_GC_content)\n",
    "print(len(seq_record))"
   ]
  },
  {
   "cell_type": "markdown",
   "id": "2385b0af",
   "metadata": {},
   "source": [
    "### Transcription: mRNA from DNA"
   ]
  },
  {
   "cell_type": "code",
   "execution_count": 18,
   "id": "636c2147",
   "metadata": {},
   "outputs": [],
   "source": [
    "# To get the template strand of a coding strand, you use the 'reverse complement' function\n",
    "# Remember that the coding strand is in 5' to 3' direction, while the template strand is in 3' to 5' direction"
   ]
  },
  {
   "cell_type": "code",
   "execution_count": 31,
   "id": "b944269e",
   "metadata": {},
   "outputs": [
    {
     "name": "stdout",
     "output_type": "stream",
     "text": [
      "ATTGCATAGCTCATGCATAGTAATGCCTGACTCATATATTGCATAGCTCATGCATCAAGCCTTCGGGGCC\n"
     ]
    }
   ],
   "source": [
    "coding_strand = Seq('ATTGCATAGCTCATGCATAGTAATGCCTGACTCATATATTGCATAGCTCATGCATCAAGCCTTCGGGGCC')\n",
    "template_strand = coding_strand.reverse_complement()\n",
    "print(coding_strand)"
   ]
  },
  {
   "cell_type": "code",
   "execution_count": 32,
   "id": "5fe69992",
   "metadata": {},
   "outputs": [
    {
     "name": "stdout",
     "output_type": "stream",
     "text": [
      "GGCCCCGAAGGCTTGATGCATGAGCTATGCAATATATGAGTCAGGCATTACTATGCATGAGCTATGCAAT\n"
     ]
    }
   ],
   "source": [
    "print(template_strand)"
   ]
  },
  {
   "cell_type": "code",
   "execution_count": 33,
   "id": "519d4e46",
   "metadata": {},
   "outputs": [],
   "source": [
    "# To get the mRNA, we use the transcribe function"
   ]
  },
  {
   "cell_type": "code",
   "execution_count": 34,
   "id": "c3daad01",
   "metadata": {},
   "outputs": [
    {
     "name": "stdout",
     "output_type": "stream",
     "text": [
      "AUUGCAUAGCUCAUGCAUAGUAAUGCCUGACUCAUAUAUUGCAUAGCUCAUGCAUCAAGCCUUCGGGGCC\n"
     ]
    }
   ],
   "source": [
    "mRNA = coding_strand.transcribe()\n",
    "print(mRNA)"
   ]
  },
  {
   "cell_type": "code",
   "execution_count": 35,
   "id": "d8f8d469",
   "metadata": {},
   "outputs": [],
   "source": [
    "# From the mRNA, we can also get the coding strand: we use the 'back transcribe'(it will REVERSE the transcription) method"
   ]
  },
  {
   "cell_type": "code",
   "execution_count": 36,
   "id": "3373b5fa",
   "metadata": {},
   "outputs": [
    {
     "name": "stdout",
     "output_type": "stream",
     "text": [
      "ATTGCATAGCTCATGCATAGTAATGCCTGACTCATATATTGCATAGCTCATGCATCAAGCCTTCGGGGCC\n"
     ]
    }
   ],
   "source": [
    "print(mRNA.back_transcribe())"
   ]
  },
  {
   "cell_type": "markdown",
   "id": "05991ccc",
   "metadata": {},
   "source": [
    "### Translation: mRNA to Protein"
   ]
  },
  {
   "cell_type": "code",
   "execution_count": 37,
   "id": "3a2f6296",
   "metadata": {},
   "outputs": [
    {
     "data": {
      "text/plain": [
       "1"
      ]
     },
     "execution_count": 37,
     "metadata": {},
     "output_type": "execute_result"
    }
   ],
   "source": [
    "# codoms are in 3s, let's check if our mRNA is a multiple of 3\n",
    "len(mRNA)%3 ##we have remainder 1"
   ]
  },
  {
   "cell_type": "code",
   "execution_count": 26,
   "id": "d1644c40",
   "metadata": {},
   "outputs": [
    {
     "name": "stdout",
     "output_type": "stream",
     "text": [
      "IA*LMHSNA*LIYCIAHASSLRG\n"
     ]
    },
    {
     "name": "stderr",
     "output_type": "stream",
     "text": [
      "C:\\Users\\CHUFESS\\anaconda3\\lib\\site-packages\\Bio\\Seq.py:2979: BiopythonWarning: Partial codon, len(sequence) not a multiple of three. Explicitly trim the sequence or add trailing N before translation. This may become an error in future.\n",
      "  warnings.warn(\n"
     ]
    }
   ],
   "source": [
    "protein = mRNA.translate() #it shows a warning, because it is not a multiple of 3(remainder 1)\n",
    "print(protein) # **--=stop codon"
   ]
  },
  {
   "cell_type": "code",
   "execution_count": 27,
   "id": "118d890a",
   "metadata": {},
   "outputs": [
    {
     "data": {
      "text/plain": [
       "\"You dont have to do transcription from coding DNA to mRNA first, before you can translate(though, that's how it is in\\nliving systems). You can directly translate the coding DNA to protein, still using the translate method\""
      ]
     },
     "execution_count": 27,
     "metadata": {},
     "output_type": "execute_result"
    }
   ],
   "source": [
    "'''You dont have to do transcription from coding DNA to mRNA first, before you can translate(though, that's how it is in\n",
    "living systems). You can directly translate the coding DNA to protein, still using the translate method'''"
   ]
  },
  {
   "cell_type": "code",
   "execution_count": 28,
   "id": "715f3a7b",
   "metadata": {},
   "outputs": [
    {
     "name": "stdout",
     "output_type": "stream",
     "text": [
      "IA*LMHSNA*LIYCIAHASSLRG\n"
     ]
    }
   ],
   "source": [
    "print(coding_strand.translate())"
   ]
  },
  {
   "cell_type": "markdown",
   "id": "592a8f43",
   "metadata": {},
   "source": [
    "### Fastq Files"
   ]
  },
  {
   "cell_type": "code",
   "execution_count": 38,
   "id": "8fe95202",
   "metadata": {
    "scrolled": true
   },
   "outputs": [
    {
     "name": "stderr",
     "output_type": "stream",
     "text": [
      "The system cannot find the path specified.\n",
      "--2023-03-03 19:19:59--  ftp://ftp.1000genomes.ebi.ac.uk/vol1/ftp/phase3/data/NA18489/sequence_read/SRR003265.filt.fastq.gz\n",
      "           => 'SRR003265.filt.fastq.gz'\n",
      "Resolving ftp.1000genomes.ebi.ac.uk (ftp.1000genomes.ebi.ac.uk)... 193.62.193.140\n",
      "Connecting to ftp.1000genomes.ebi.ac.uk (ftp.1000genomes.ebi.ac.uk)|193.62.193.140|:21... connected.\n",
      "Logging in as anonymous ... Logged in!\n",
      "==> SYST ... done.    ==> PWD ... done.\n",
      "==> TYPE I ... done.  ==> CWD (1) /vol1/ftp/phase3/data/NA18489/sequence_read ... done.\n",
      "==> SIZE SRR003265.filt.fastq.gz ... 28919712\n",
      "==> PASV ... couldn't connect to 193.62.193.140 port 60768: Unknown error\n"
     ]
    }
   ],
   "source": [
    "!rm -f SRR003265.filt.fastq.gz 2>/dev/null\n",
    "!wget -nd ftp://ftp.1000genomes.ebi.ac.uk/vol1/ftp/phase3/data/NA18489/sequence_read/SRR003265.filt.fastq.gz"
   ]
  },
  {
   "cell_type": "code",
   "execution_count": 39,
   "id": "61687eb7",
   "metadata": {},
   "outputs": [],
   "source": [
    "from collections import defaultdict\n",
    "import gzip"
   ]
  },
  {
   "cell_type": "code",
   "execution_count": 40,
   "id": "9a0bfd09",
   "metadata": {},
   "outputs": [],
   "source": [
    "import matplotlib.pyplot as plt\n",
    "%matplotlib inline\n",
    "import seaborn as sns"
   ]
  },
  {
   "cell_type": "code",
   "execution_count": 41,
   "id": "100f72e6",
   "metadata": {},
   "outputs": [],
   "source": [
    "from Bio import SeqIO"
   ]
  },
  {
   "cell_type": "code",
   "execution_count": 64,
   "id": "3ed7cbdf",
   "metadata": {},
   "outputs": [],
   "source": [
    "recs = SeqIO.parse(gzip.open('SRR003265.filt.fastq.gz', 'rt', encoding='utf-8'), 'fastq')"
   ]
  },
  {
   "cell_type": "code",
   "execution_count": 34,
   "id": "a3829408",
   "metadata": {},
   "outputs": [],
   "source": [
    "# for rec in recs:\n",
    "#     print(rec)\n",
    "# instead of doing this, just print them one by one\n",
    "# loading everything at once will overflow your machine's memory"
   ]
  },
  {
   "cell_type": "code",
   "execution_count": 65,
   "id": "733a2e20",
   "metadata": {},
   "outputs": [
    {
     "name": "stdout",
     "output_type": "stream",
     "text": [
      "ID: SRR003265.31\n",
      "Name: SRR003265.31\n",
      "Description: SRR003265.31 3042NAAXX:3:1:1252:1819 length=51\n",
      "Number of features: 0\n",
      "Per letter annotation for: phred_quality\n",
      "Seq('GGGAAAAGAAAAACAAACAAACAAAAACAAAACACAGAAACAAAAAAACCA')\n"
     ]
    }
   ],
   "source": [
    "# printing one first\n",
    "rec = next(recs)\n",
    "print(rec)"
   ]
  },
  {
   "cell_type": "code",
   "execution_count": 57,
   "id": "62804911",
   "metadata": {},
   "outputs": [
    {
     "data": {
      "text/plain": [
       "Seq('GGGAAAAGAAAAACAAACAAACAAAAACAAAACACAGAAACAAAAAAACCA')"
      ]
     },
     "execution_count": 57,
     "metadata": {},
     "output_type": "execute_result"
    }
   ],
   "source": [
    "rec.seq"
   ]
  },
  {
   "cell_type": "code",
   "execution_count": 58,
   "id": "827c8984",
   "metadata": {},
   "outputs": [
    {
     "name": "stdout",
     "output_type": "stream",
     "text": [
      "SRR003265.31 SRR003265.31 3042NAAXX:3:1:1252:1819 length=51 GGGAAAAGAAAAACAAACAAACAAAAACAAAACACAGAAACAAAAAAACCA\n"
     ]
    }
   ],
   "source": [
    "print(rec.id, rec.description, rec.seq)"
   ]
  },
  {
   "cell_type": "code",
   "execution_count": 59,
   "id": "e5ba103f",
   "metadata": {},
   "outputs": [
    {
     "name": "stdout",
     "output_type": "stream",
     "text": [
      "{'phred_quality': [40, 40, 40, 40, 40, 40, 40, 40, 40, 40, 40, 40, 40, 40, 40, 40, 40, 40, 40, 30, 23, 40, 32, 35, 29, 40, 16, 40, 40, 32, 35, 31, 40, 40, 39, 22, 40, 24, 20, 28, 31, 12, 31, 10, 22, 28, 13, 26, 20, 23, 23]}\n"
     ]
    }
   ],
   "source": [
    "print(rec.letter_annotations)"
   ]
  },
  {
   "cell_type": "markdown",
   "id": "11e7f946",
   "metadata": {},
   "source": [
    "#### Accessing records in the file"
   ]
  },
  {
   "cell_type": "code",
   "execution_count": 66,
   "id": "1d6cc92e",
   "metadata": {
    "scrolled": true
   },
   "outputs": [],
   "source": [
    "recss = [i for i in recs]"
   ]
  },
  {
   "cell_type": "code",
   "execution_count": 67,
   "id": "58c11e33",
   "metadata": {},
   "outputs": [
    {
     "data": {
      "text/plain": [
       "508225"
      ]
     },
     "execution_count": 67,
     "metadata": {},
     "output_type": "execute_result"
    }
   ],
   "source": [
    "len(recss)"
   ]
  },
  {
   "cell_type": "code",
   "execution_count": 68,
   "id": "8ef1e15d",
   "metadata": {},
   "outputs": [
    {
     "data": {
      "text/plain": [
       "Seq('GAAATTTGTTTGCAGACCTCTGTGCAAACAAATTTCAGATTGGAAGAGCGT')"
      ]
     },
     "execution_count": 68,
     "metadata": {},
     "output_type": "execute_result"
    }
   ],
   "source": [
    "recss[0].seq"
   ]
  },
  {
   "cell_type": "code",
   "execution_count": 69,
   "id": "487d5993",
   "metadata": {},
   "outputs": [
    {
     "name": "stdout",
     "output_type": "stream",
     "text": [
      "{'phred_quality': [40, 40, 40, 40, 40, 40, 40, 40, 40, 40, 40, 40, 40, 40, 40, 40, 40, 40, 40, 40, 40, 40, 40, 40, 40, 40, 40, 40, 40, 40, 40, 40, 40, 40, 40, 37, 40, 40, 40, 40, 40, 40, 40, 40, 34, 26, 21, 40, 30, 40, 40]}\n"
     ]
    }
   ],
   "source": [
    "print(recss[0].letter_annotations)"
   ]
  },
  {
   "cell_type": "markdown",
   "id": "99e222d3",
   "metadata": {},
   "source": [
    "### Distribution of Nucleotides Reads"
   ]
  },
  {
   "cell_type": "code",
   "execution_count": 70,
   "id": "fe7928b6",
   "metadata": {
    "scrolled": true
   },
   "outputs": [
    {
     "name": "stdout",
     "output_type": "stream",
     "text": [
      "G: 20.68 5359334\n",
      "A: 28.60 7411965\n",
      "C: 21.00 5444053\n",
      "T: 29.58 7666885\n",
      "N: 0.14 37289\n"
     ]
    }
   ],
   "source": [
    "recs = SeqIO.parse(gzip.open('SRR003265.filt.fastq.gz', 'rt', encoding='utf-8'), 'fastq')\n",
    "count = defaultdict(int)\n",
    "for rec in recs:\n",
    "    for letter in rec.seq:\n",
    "        count[letter] += 1\n",
    "total = sum(count.values())\n",
    "for letter, count in count.items():\n",
    "    print('%s: %.2f %d' %(letter, 100*count/total, count))"
   ]
  },
  {
   "cell_type": "code",
   "execution_count": 71,
   "id": "b36b321b",
   "metadata": {},
   "outputs": [],
   "source": [
    "# 'N' above is the uncalled base"
   ]
  },
  {
   "cell_type": "markdown",
   "id": "c9cf7d1e",
   "metadata": {},
   "source": [
    "### Distribution of N Base"
   ]
  },
  {
   "cell_type": "code",
   "execution_count": 72,
   "id": "4c92b4a0",
   "metadata": {},
   "outputs": [
    {
     "data": {
      "image/png": "[encoded data removed]",
      "text/plain": [
       "<Figure size 1080x504 with 1 Axes>"
      ]
     },
     "metadata": {
      "needs_background": "light"
     },
     "output_type": "display_data"
    }
   ],
   "source": [
    "recs = SeqIO.parse(gzip.open('SRR003265.filt.fastq.gz', 'rt', encoding='utf-8'), 'fastq')\n",
    "n_cnt = defaultdict(int)\n",
    "for rec in recs:\n",
    "    for i, letter in enumerate(rec.seq): #enumerate function will give the index of the base, then the base ([imdex],base)\n",
    "        pos = i + 1 ## it is +1 because index numbering always start from 0, not 1\n",
    "        if letter == 'N':\n",
    "            n_cnt[pos] +=1\n",
    "N_len = max(n_cnt.keys())\n",
    "position = range(1, N_len+1)\n",
    "fig, ax = plt.subplots(figsize=(15,7))\n",
    "ax.plot(position, [n_cnt[x] for x in position])\n",
    "ax.set_xlabel('Position/Index of Base N', fontsize=12)\n",
    "ax.set_ylabel('Number of Occurence', fontsize=12)\n",
    "pass"
   ]
  },
  {
   "cell_type": "code",
   "execution_count": 45,
   "id": "bb0167e4",
   "metadata": {},
   "outputs": [
    {
     "data": {
      "text/plain": [
       "51"
      ]
     },
     "execution_count": 45,
     "metadata": {},
     "output_type": "execute_result"
    }
   ],
   "source": [
    "N_len"
   ]
  },
  {
   "cell_type": "code",
   "execution_count": 46,
   "id": "84007359",
   "metadata": {},
   "outputs": [
    {
     "data": {
      "text/plain": [
       "508226"
      ]
     },
     "execution_count": 46,
     "metadata": {},
     "output_type": "execute_result"
    }
   ],
   "source": [
    "recs = SeqIO.parse(gzip.open('SRR003265.filt.fastq.gz', 'rt', encoding='utf-8'), 'fastq')\n",
    "rc = [r for r in recs]\n",
    "len(rc)"
   ]
  },
  {
   "cell_type": "code",
   "execution_count": 47,
   "id": "c95ce7d1",
   "metadata": {},
   "outputs": [
    {
     "data": {
      "text/plain": [
       "dict_items([(32, 3978), (33, 4662), (34, 3988), (29, 2472), (30, 3108), (31, 4192), (35, 1668), (36, 1006), (51, 1226), (37, 1661), (47, 866), (45, 1145), (49, 423), (28, 1792), (39, 454), (44, 501), (46, 414), (48, 464), (38, 559), (50, 651), (42, 220), (41, 768), (43, 383), (26, 61), (40, 579), (27, 48), (1, 0), (2, 0), (3, 0), (4, 0), (5, 0), (6, 0), (7, 0), (8, 0), (9, 0), (10, 0), (11, 0), (12, 0), (13, 0), (14, 0), (15, 0), (16, 0), (17, 0), (18, 0), (19, 0), (20, 0), (21, 0), (22, 0), (23, 0), (24, 0), (25, 0)])"
      ]
     },
     "execution_count": 47,
     "metadata": {},
     "output_type": "execute_result"
    }
   ],
   "source": [
    "n_cnt.items() ###up to position/index 25, there is no N base (the plot above says the same)"
   ]
  },
  {
   "cell_type": "code",
   "execution_count": 48,
   "id": "7b515586",
   "metadata": {},
   "outputs": [
    {
     "data": {
      "text/plain": [
       "(Seq('ATTTATAAAAAAAATAAAAAACAAAAAACCGACACAAAATAAAAACCATNA'), 51)"
      ]
     },
     "execution_count": 48,
     "metadata": {},
     "output_type": "execute_result"
    }
   ],
   "source": [
    "rec.seq, len(rec.seq)"
   ]
  },
  {
   "cell_type": "markdown",
   "id": "9ac30359",
   "metadata": {},
   "source": [
    "### Quality of Reads"
   ]
  },
  {
   "cell_type": "code",
   "execution_count": 49,
   "id": "1335426b",
   "metadata": {},
   "outputs": [
    {
     "data": {
      "text/plain": [
       "'...........'"
      ]
     },
     "execution_count": 49,
     "metadata": {},
     "output_type": "execute_result"
    }
   ],
   "source": [
    "'''...........'''"
   ]
  },
  {
   "cell_type": "markdown",
   "id": "227c3682",
   "metadata": {},
   "source": [
    "### Accessing Nucleotide Database from NCBI"
   ]
  },
  {
   "cell_type": "code",
   "execution_count": 50,
   "id": "a857180d",
   "metadata": {},
   "outputs": [
    {
     "data": {
      "text/plain": [
       "'E-search -- for searching databases'"
      ]
     },
     "execution_count": 50,
     "metadata": {},
     "output_type": "execute_result"
    }
   ],
   "source": [
    "'''E-fetch -- for downloading full records'''\n",
    "'''E-search -- for searching databases'''"
   ]
  },
  {
   "cell_type": "markdown",
   "id": "15ac5bb7",
   "metadata": {},
   "source": [
    "### Example of Global Alignment\n",
    "#### We also use the same function for local alignment, only that we call local(in the function) instead of global"
   ]
  },
  {
   "cell_type": "code",
   "execution_count": 73,
   "id": "61249116",
   "metadata": {},
   "outputs": [],
   "source": [
    "from Bio import pairwise2"
   ]
  },
  {
   "cell_type": "code",
   "execution_count": null,
   "id": "91205b13",
   "metadata": {},
   "outputs": [],
   "source": [
    "# alignments = pairwise2.align.gl"
   ]
  },
  {
   "cell_type": "code",
   "execution_count": 75,
   "id": "63c475b6",
   "metadata": {},
   "outputs": [
    {
     "name": "stdout",
     "output_type": "stream",
     "text": [
      "ACCGGT\n",
      "| | ||\n",
      "A-C-GT\n",
      "  Score=4\n",
      "\n",
      "ACCGGT\n",
      "||  ||\n",
      "AC--GT\n",
      "  Score=4\n",
      "\n",
      "ACCGGT\n",
      "| || |\n",
      "A-CG-T\n",
      "  Score=4\n",
      "\n",
      "ACCGGT\n",
      "|| | |\n",
      "AC-G-T\n",
      "  Score=4\n",
      "\n"
     ]
    }
   ],
   "source": [
    "#globalxx -- 1 score for matches, 0 score for mismatches, no gap penalities\n",
    "alignments = pairwise2.align.globalxx('ACCGGT', 'ACGT')\n",
    "for alignment in alignments:\n",
    "    print(pairwise2.format_alignment(*alignment))"
   ]
  },
  {
   "cell_type": "code",
   "execution_count": 76,
   "id": "10dc991a",
   "metadata": {},
   "outputs": [
    {
     "name": "stdout",
     "output_type": "stream",
     "text": [
      "ACCGGT\n",
      "| | ||\n",
      "A-C-GT\n",
      "  Score=8\n",
      "\n",
      "ACCGGT\n",
      "||  ||\n",
      "AC--GT\n",
      "  Score=8\n",
      "\n",
      "ACCGGT\n",
      "| || |\n",
      "A-CG-T\n",
      "  Score=8\n",
      "\n",
      "ACCGGT\n",
      "|| | |\n",
      "AC-G-T\n",
      "  Score=8\n",
      "\n"
     ]
    }
   ],
   "source": [
    "#globalmx -- 2 score for matches, -1 score for mismatches, no gap penalities\n",
    "alignments = pairwise2.align.globalmx('ACCGGT', 'ACGT', match=2, mismatch=-1)\n",
    "for alignment in alignments:\n",
    "    print(pairwise2.format_alignment(*alignment))"
   ]
  },
  {
   "cell_type": "code",
   "execution_count": 79,
   "id": "3cda920e",
   "metadata": {},
   "outputs": [
    {
     "name": "stdout",
     "output_type": "stream",
     "text": [
      "ACCGGT\n",
      "||  ||\n",
      "AC--GT\n",
      "  Score=1\n",
      "\n"
     ]
    }
   ],
   "source": [
    "#globalxs -- 1 score for matches, 0 score for mismatches, -2 for opening gaps, -1 for extended gaps\n",
    "#opening gap is the (first) gap that interupt the flow of the sequence; if the gap interuption continues, it becomes an extended gap\n",
    "alignments = pairwise2.align.globalxs('ACCGGT', 'ACGT', open=-2, extend=-1)\n",
    "for alignment in alignments:\n",
    "    print(pairwise2.format_alignment(*alignment))"
   ]
  },
  {
   "cell_type": "code",
   "execution_count": 80,
   "id": "7939f9db",
   "metadata": {},
   "outputs": [
    {
     "name": "stdout",
     "output_type": "stream",
     "text": [
      "KEVLA\n",
      " ||| \n",
      "-EVL-\n",
      "  Score=13\n",
      "\n"
     ]
    }
   ],
   "source": [
    "#globaldx -- matches and mismatches scores resd from BLOSUM62 matrix, no gap penalities\n",
    "from Bio.Align import substitution_matrices\n",
    "matrix = substitution_matrices.load('BLOSUM62')\n",
    "alignments = pairwise2.align.globaldx('KEVLA', 'EVL', match_dict=matrix)\n",
    "\n",
    "for alignment in alignments:\n",
    "    print(pairwise2.format_alignment(*alignment))"
   ]
  },
  {
   "cell_type": "code",
   "execution_count": 81,
   "id": "64775725",
   "metadata": {},
   "outputs": [
    {
     "name": "stdout",
     "output_type": "stream",
     "text": [
      "ACCCCCGT\n",
      "|    || \n",
      "A----CG-\n",
      "  Score=9.30685\n",
      "\n",
      "ACCCCCGT\n",
      "||    | \n",
      "AC----G-\n",
      "  Score=9.30685\n",
      "\n"
     ]
    }
   ],
   "source": [
    "#globalmc = 5 for matches and -4 for mismatches, gap penalities given by the defined function below:\n",
    "from math import log\n",
    "def gap_function(x,y): #x is gap position in the sequence, y is gap length\n",
    "    if y == 0:\n",
    "        return 0\n",
    "    elif y == 1:\n",
    "        return -2\n",
    "    return - (2 + y/4.0 + log(y)/2.0)\n",
    "\n",
    "alignments = pairwise2.align.globalmc('ACCCCCGT', 'ACG', match=5,  mismatch=-4,\n",
    "                                     gap_A_fn=gap_function, gap_B_fn=gap_function)\n",
    "\n",
    "for alignment in alignments:\n",
    "    print(pairwise2.format_alignment(*alignment))"
   ]
  },
  {
   "cell_type": "markdown",
   "id": "af3c9beb",
   "metadata": {},
   "source": [
    "### BLAST(Basic Local Alignment Search Tool)"
   ]
  },
  {
   "cell_type": "code",
   "execution_count": 83,
   "id": "d582ea95",
   "metadata": {
    "scrolled": false
   },
   "outputs": [
    {
     "name": "stdout",
     "output_type": "stream",
     "text": [
      "Help on function qblast in module Bio.Blast.NCBIWWW:\n",
      "\n",
      "qblast(program, database, sequence, url_base='https://blast.ncbi.nlm.nih.gov/Blast.cgi', auto_format=None, composition_based_statistics=None, db_genetic_code=None, endpoints=None, entrez_query='(none)', expect=10.0, filter=None, gapcosts=None, genetic_code=None, hitlist_size=50, i_thresh=None, layout=None, lcase_mask=None, matrix_name=None, nucl_penalty=None, nucl_reward=None, other_advanced=None, perc_ident=None, phi_pattern=None, query_file=None, query_believe_defline=None, query_from=None, query_to=None, searchsp_eff=None, service=None, threshold=None, ungapped_alignment=None, word_size=None, short_query=None, alignments=500, alignment_view=None, descriptions=500, entrez_links_new_window=None, expect_low=None, expect_high=None, format_entrez_query=None, format_object=None, format_type='XML', ncbi_gi=None, results_file=None, show_overview=None, megablast=None, template_type=None, template_length=None)\n",
      "    BLAST search using NCBI's QBLAST server or a cloud service provider.\n",
      "    \n",
      "    Supports all parameters of the old qblast API for Put and Get.\n",
      "    \n",
      "    Please note that NCBI uses the new Common URL API for BLAST searches\n",
      "    on the internet (http://ncbi.github.io/blast-cloud/dev/api.html). Thus,\n",
      "    some of the parameters used by this function are not (or are no longer)\n",
      "    officially supported by NCBI. Although they are still functioning, this\n",
      "    may change in the future.\n",
      "    \n",
      "    The Common URL API (http://ncbi.github.io/blast-cloud/dev/api.html) allows\n",
      "    doing BLAST searches on cloud servers. To use this feature, please set\n",
      "    ``url_base='http://host.my.cloud.service.provider.com/cgi-bin/blast.cgi'``\n",
      "    and ``format_object='Alignment'``. For more details, please see\n",
      "    https://blast.ncbi.nlm.nih.gov/Blast.cgi?PAGE_TYPE=BlastDocs&DOC_TYPE=CloudBlast\n",
      "    \n",
      "    Some useful parameters:\n",
      "    \n",
      "     - program        blastn, blastp, blastx, tblastn, or tblastx (lower case)\n",
      "     - database       Which database to search against (e.g. \"nr\").\n",
      "     - sequence       The sequence to search.\n",
      "     - ncbi_gi        TRUE/FALSE whether to give 'gi' identifier.\n",
      "     - descriptions   Number of descriptions to show.  Def 500.\n",
      "     - alignments     Number of alignments to show.  Def 500.\n",
      "     - expect         An expect value cutoff.  Def 10.0.\n",
      "     - matrix_name    Specify an alt. matrix (PAM30, PAM70, BLOSUM80, BLOSUM45).\n",
      "     - filter         \"none\" turns off filtering.  Default no filtering\n",
      "     - format_type    \"HTML\", \"Text\", \"ASN.1\", or \"XML\".  Def. \"XML\".\n",
      "     - entrez_query   Entrez query to limit Blast search\n",
      "     - hitlist_size   Number of hits to return. Default 50\n",
      "     - megablast      TRUE/FALSE whether to use MEga BLAST algorithm (blastn only)\n",
      "     - short_query    TRUE/FALSE whether to adjust the search parameters for a\n",
      "                      short query sequence. Note that this will override\n",
      "                      manually set parameters like word size and e value. Turns\n",
      "                      off when sequence length is > 30 residues. Default: None.\n",
      "     - service        plain, psi, phi, rpsblast, megablast (lower case)\n",
      "    \n",
      "    This function does no checking of the validity of the parameters\n",
      "    and passes the values to the server as is.  More help is available at:\n",
      "    https://ncbi.github.io/blast-cloud/dev/api.html\n",
      "\n"
     ]
    }
   ],
   "source": [
    "from Bio.Blast import NCBIWWW\n",
    "help(NCBIWWW.qblast)"
   ]
  },
  {
   "cell_type": "markdown",
   "id": "e39e7e8b",
   "metadata": {},
   "source": [
    "###### above are the useful parameters; only the first three(program, database, and sequence) are non optional"
   ]
  },
  {
   "cell_type": "code",
   "execution_count": 84,
   "id": "d87906f8",
   "metadata": {
    "scrolled": false
   },
   "outputs": [
    {
     "ename": "URLError",
     "evalue": "<urlopen error [Errno 11001] getaddrinfo failed>",
     "output_type": "error",
     "traceback": [
      "\u001b[1;31m---------------------------------------------------------------------------\u001b[0m",
      "\u001b[1;31mgaierror\u001b[0m                                  Traceback (most recent call last)",
      "File \u001b[1;32m~\\anaconda3\\lib\\urllib\\request.py:1346\u001b[0m, in \u001b[0;36mAbstractHTTPHandler.do_open\u001b[1;34m(self, http_class, req, **http_conn_args)\u001b[0m\n\u001b[0;32m   1345\u001b[0m \u001b[38;5;28;01mtry\u001b[39;00m:\n\u001b[1;32m-> 1346\u001b[0m     \u001b[43mh\u001b[49m\u001b[38;5;241;43m.\u001b[39;49m\u001b[43mrequest\u001b[49m\u001b[43m(\u001b[49m\u001b[43mreq\u001b[49m\u001b[38;5;241;43m.\u001b[39;49m\u001b[43mget_method\u001b[49m\u001b[43m(\u001b[49m\u001b[43m)\u001b[49m\u001b[43m,\u001b[49m\u001b[43m \u001b[49m\u001b[43mreq\u001b[49m\u001b[38;5;241;43m.\u001b[39;49m\u001b[43mselector\u001b[49m\u001b[43m,\u001b[49m\u001b[43m \u001b[49m\u001b[43mreq\u001b[49m\u001b[38;5;241;43m.\u001b[39;49m\u001b[43mdata\u001b[49m\u001b[43m,\u001b[49m\u001b[43m \u001b[49m\u001b[43mheaders\u001b[49m\u001b[43m,\u001b[49m\n\u001b[0;32m   1347\u001b[0m \u001b[43m              \u001b[49m\u001b[43mencode_chunked\u001b[49m\u001b[38;5;241;43m=\u001b[39;49m\u001b[43mreq\u001b[49m\u001b[38;5;241;43m.\u001b[39;49m\u001b[43mhas_header\u001b[49m\u001b[43m(\u001b[49m\u001b[38;5;124;43m'\u001b[39;49m\u001b[38;5;124;43mTransfer-encoding\u001b[39;49m\u001b[38;5;124;43m'\u001b[39;49m\u001b[43m)\u001b[49m\u001b[43m)\u001b[49m\n\u001b[0;32m   1348\u001b[0m \u001b[38;5;28;01mexcept\u001b[39;00m \u001b[38;5;167;01mOSError\u001b[39;00m \u001b[38;5;28;01mas\u001b[39;00m err: \u001b[38;5;66;03m# timeout error\u001b[39;00m\n",
      "File \u001b[1;32m~\\anaconda3\\lib\\http\\client.py:1285\u001b[0m, in \u001b[0;36mHTTPConnection.request\u001b[1;34m(self, method, url, body, headers, encode_chunked)\u001b[0m\n\u001b[0;32m   1284\u001b[0m \u001b[38;5;124;03m\"\"\"Send a complete request to the server.\"\"\"\u001b[39;00m\n\u001b[1;32m-> 1285\u001b[0m \u001b[38;5;28;43mself\u001b[39;49m\u001b[38;5;241;43m.\u001b[39;49m\u001b[43m_send_request\u001b[49m\u001b[43m(\u001b[49m\u001b[43mmethod\u001b[49m\u001b[43m,\u001b[49m\u001b[43m \u001b[49m\u001b[43murl\u001b[49m\u001b[43m,\u001b[49m\u001b[43m \u001b[49m\u001b[43mbody\u001b[49m\u001b[43m,\u001b[49m\u001b[43m \u001b[49m\u001b[43mheaders\u001b[49m\u001b[43m,\u001b[49m\u001b[43m \u001b[49m\u001b[43mencode_chunked\u001b[49m\u001b[43m)\u001b[49m\n",
      "File \u001b[1;32m~\\anaconda3\\lib\\http\\client.py:1331\u001b[0m, in \u001b[0;36mHTTPConnection._send_request\u001b[1;34m(self, method, url, body, headers, encode_chunked)\u001b[0m\n\u001b[0;32m   1330\u001b[0m     body \u001b[38;5;241m=\u001b[39m _encode(body, \u001b[38;5;124m'\u001b[39m\u001b[38;5;124mbody\u001b[39m\u001b[38;5;124m'\u001b[39m)\n\u001b[1;32m-> 1331\u001b[0m \u001b[38;5;28;43mself\u001b[39;49m\u001b[38;5;241;43m.\u001b[39;49m\u001b[43mendheaders\u001b[49m\u001b[43m(\u001b[49m\u001b[43mbody\u001b[49m\u001b[43m,\u001b[49m\u001b[43m \u001b[49m\u001b[43mencode_chunked\u001b[49m\u001b[38;5;241;43m=\u001b[39;49m\u001b[43mencode_chunked\u001b[49m\u001b[43m)\u001b[49m\n",
      "File \u001b[1;32m~\\anaconda3\\lib\\http\\client.py:1280\u001b[0m, in \u001b[0;36mHTTPConnection.endheaders\u001b[1;34m(self, message_body, encode_chunked)\u001b[0m\n\u001b[0;32m   1279\u001b[0m     \u001b[38;5;28;01mraise\u001b[39;00m CannotSendHeader()\n\u001b[1;32m-> 1280\u001b[0m \u001b[38;5;28;43mself\u001b[39;49m\u001b[38;5;241;43m.\u001b[39;49m\u001b[43m_send_output\u001b[49m\u001b[43m(\u001b[49m\u001b[43mmessage_body\u001b[49m\u001b[43m,\u001b[49m\u001b[43m \u001b[49m\u001b[43mencode_chunked\u001b[49m\u001b[38;5;241;43m=\u001b[39;49m\u001b[43mencode_chunked\u001b[49m\u001b[43m)\u001b[49m\n",
      "File \u001b[1;32m~\\anaconda3\\lib\\http\\client.py:1040\u001b[0m, in \u001b[0;36mHTTPConnection._send_output\u001b[1;34m(self, message_body, encode_chunked)\u001b[0m\n\u001b[0;32m   1039\u001b[0m \u001b[38;5;28;01mdel\u001b[39;00m \u001b[38;5;28mself\u001b[39m\u001b[38;5;241m.\u001b[39m_buffer[:]\n\u001b[1;32m-> 1040\u001b[0m \u001b[38;5;28;43mself\u001b[39;49m\u001b[38;5;241;43m.\u001b[39;49m\u001b[43msend\u001b[49m\u001b[43m(\u001b[49m\u001b[43mmsg\u001b[49m\u001b[43m)\u001b[49m\n\u001b[0;32m   1042\u001b[0m \u001b[38;5;28;01mif\u001b[39;00m message_body \u001b[38;5;129;01mis\u001b[39;00m \u001b[38;5;129;01mnot\u001b[39;00m \u001b[38;5;28;01mNone\u001b[39;00m:\n\u001b[0;32m   1043\u001b[0m \n\u001b[0;32m   1044\u001b[0m     \u001b[38;5;66;03m# create a consistent interface to message_body\u001b[39;00m\n",
      "File \u001b[1;32m~\\anaconda3\\lib\\http\\client.py:980\u001b[0m, in \u001b[0;36mHTTPConnection.send\u001b[1;34m(self, data)\u001b[0m\n\u001b[0;32m    979\u001b[0m \u001b[38;5;28;01mif\u001b[39;00m \u001b[38;5;28mself\u001b[39m\u001b[38;5;241m.\u001b[39mauto_open:\n\u001b[1;32m--> 980\u001b[0m     \u001b[38;5;28;43mself\u001b[39;49m\u001b[38;5;241;43m.\u001b[39;49m\u001b[43mconnect\u001b[49m\u001b[43m(\u001b[49m\u001b[43m)\u001b[49m\n\u001b[0;32m    981\u001b[0m \u001b[38;5;28;01melse\u001b[39;00m:\n",
      "File \u001b[1;32m~\\anaconda3\\lib\\http\\client.py:1447\u001b[0m, in \u001b[0;36mHTTPSConnection.connect\u001b[1;34m(self)\u001b[0m\n\u001b[0;32m   1445\u001b[0m \u001b[38;5;124m\"\u001b[39m\u001b[38;5;124mConnect to a host on a given (SSL) port.\u001b[39m\u001b[38;5;124m\"\u001b[39m\n\u001b[1;32m-> 1447\u001b[0m \u001b[38;5;28;43msuper\u001b[39;49m\u001b[43m(\u001b[49m\u001b[43m)\u001b[49m\u001b[38;5;241;43m.\u001b[39;49m\u001b[43mconnect\u001b[49m\u001b[43m(\u001b[49m\u001b[43m)\u001b[49m\n\u001b[0;32m   1449\u001b[0m \u001b[38;5;28;01mif\u001b[39;00m \u001b[38;5;28mself\u001b[39m\u001b[38;5;241m.\u001b[39m_tunnel_host:\n",
      "File \u001b[1;32m~\\anaconda3\\lib\\http\\client.py:946\u001b[0m, in \u001b[0;36mHTTPConnection.connect\u001b[1;34m(self)\u001b[0m\n\u001b[0;32m    945\u001b[0m \u001b[38;5;124;03m\"\"\"Connect to the host and port specified in __init__.\"\"\"\u001b[39;00m\n\u001b[1;32m--> 946\u001b[0m \u001b[38;5;28mself\u001b[39m\u001b[38;5;241m.\u001b[39msock \u001b[38;5;241m=\u001b[39m \u001b[38;5;28;43mself\u001b[39;49m\u001b[38;5;241;43m.\u001b[39;49m\u001b[43m_create_connection\u001b[49m\u001b[43m(\u001b[49m\n\u001b[0;32m    947\u001b[0m \u001b[43m    \u001b[49m\u001b[43m(\u001b[49m\u001b[38;5;28;43mself\u001b[39;49m\u001b[38;5;241;43m.\u001b[39;49m\u001b[43mhost\u001b[49m\u001b[43m,\u001b[49m\u001b[38;5;28;43mself\u001b[39;49m\u001b[38;5;241;43m.\u001b[39;49m\u001b[43mport\u001b[49m\u001b[43m)\u001b[49m\u001b[43m,\u001b[49m\u001b[43m \u001b[49m\u001b[38;5;28;43mself\u001b[39;49m\u001b[38;5;241;43m.\u001b[39;49m\u001b[43mtimeout\u001b[49m\u001b[43m,\u001b[49m\u001b[43m \u001b[49m\u001b[38;5;28;43mself\u001b[39;49m\u001b[38;5;241;43m.\u001b[39;49m\u001b[43msource_address\u001b[49m\u001b[43m)\u001b[49m\n\u001b[0;32m    948\u001b[0m \u001b[38;5;66;03m# Might fail in OSs that don't implement TCP_NODELAY\u001b[39;00m\n",
      "File \u001b[1;32m~\\anaconda3\\lib\\socket.py:823\u001b[0m, in \u001b[0;36mcreate_connection\u001b[1;34m(address, timeout, source_address)\u001b[0m\n\u001b[0;32m    822\u001b[0m err \u001b[38;5;241m=\u001b[39m \u001b[38;5;28;01mNone\u001b[39;00m\n\u001b[1;32m--> 823\u001b[0m \u001b[38;5;28;01mfor\u001b[39;00m res \u001b[38;5;129;01min\u001b[39;00m \u001b[43mgetaddrinfo\u001b[49m\u001b[43m(\u001b[49m\u001b[43mhost\u001b[49m\u001b[43m,\u001b[49m\u001b[43m \u001b[49m\u001b[43mport\u001b[49m\u001b[43m,\u001b[49m\u001b[43m \u001b[49m\u001b[38;5;241;43m0\u001b[39;49m\u001b[43m,\u001b[49m\u001b[43m \u001b[49m\u001b[43mSOCK_STREAM\u001b[49m\u001b[43m)\u001b[49m:\n\u001b[0;32m    824\u001b[0m     af, socktype, proto, canonname, sa \u001b[38;5;241m=\u001b[39m res\n",
      "File \u001b[1;32m~\\anaconda3\\lib\\socket.py:954\u001b[0m, in \u001b[0;36mgetaddrinfo\u001b[1;34m(host, port, family, type, proto, flags)\u001b[0m\n\u001b[0;32m    953\u001b[0m addrlist \u001b[38;5;241m=\u001b[39m []\n\u001b[1;32m--> 954\u001b[0m \u001b[38;5;28;01mfor\u001b[39;00m res \u001b[38;5;129;01min\u001b[39;00m \u001b[43m_socket\u001b[49m\u001b[38;5;241;43m.\u001b[39;49m\u001b[43mgetaddrinfo\u001b[49m\u001b[43m(\u001b[49m\u001b[43mhost\u001b[49m\u001b[43m,\u001b[49m\u001b[43m \u001b[49m\u001b[43mport\u001b[49m\u001b[43m,\u001b[49m\u001b[43m \u001b[49m\u001b[43mfamily\u001b[49m\u001b[43m,\u001b[49m\u001b[43m \u001b[49m\u001b[38;5;28;43mtype\u001b[39;49m\u001b[43m,\u001b[49m\u001b[43m \u001b[49m\u001b[43mproto\u001b[49m\u001b[43m,\u001b[49m\u001b[43m \u001b[49m\u001b[43mflags\u001b[49m\u001b[43m)\u001b[49m:\n\u001b[0;32m    955\u001b[0m     af, socktype, proto, canonname, sa \u001b[38;5;241m=\u001b[39m res\n",
      "\u001b[1;31mgaierror\u001b[0m: [Errno 11001] getaddrinfo failed",
      "\nDuring handling of the above exception, another exception occurred:\n",
      "\u001b[1;31mURLError\u001b[0m                                  Traceback (most recent call last)",
      "Input \u001b[1;32mIn [84]\u001b[0m, in \u001b[0;36m<cell line: 1>\u001b[1;34m()\u001b[0m\n\u001b[1;32m----> 1\u001b[0m result_handle \u001b[38;5;241m=\u001b[39m \u001b[43mNCBIWWW\u001b[49m\u001b[38;5;241;43m.\u001b[39;49m\u001b[43mqblast\u001b[49m\u001b[43m(\u001b[49m\u001b[43mprogram\u001b[49m\u001b[38;5;241;43m=\u001b[39;49m\u001b[38;5;124;43m'\u001b[39;49m\u001b[38;5;124;43mblastn\u001b[39;49m\u001b[38;5;124;43m'\u001b[39;49m\u001b[43m,\u001b[49m\u001b[43m \u001b[49m\u001b[43mdatabase\u001b[49m\u001b[38;5;241;43m=\u001b[39;49m\u001b[38;5;124;43m'\u001b[39;49m\u001b[38;5;124;43mnt\u001b[39;49m\u001b[38;5;124;43m'\u001b[39;49m\u001b[43m \u001b[49m\u001b[43m,\u001b[49m\u001b[43msequence\u001b[49m\u001b[38;5;241;43m=\u001b[39;49m\u001b[38;5;124;43m'''\u001b[39;49m\u001b[38;5;124;43mggaatattacccatagaggagaatatacccccatata\u001b[39;49m\n\u001b[0;32m      2\u001b[0m \u001b[38;5;124;43m                                ttatagttttcggcgatatatagataaagatacgctctcgctctcgttctatagatatacgagcatcatactacgctcagct\u001b[39;49m\u001b[38;5;124;43m'''\u001b[39;49m\u001b[43m)\u001b[49m\n",
      "File \u001b[1;32m~\\anaconda3\\lib\\site-packages\\Bio\\Blast\\NCBIWWW.py:204\u001b[0m, in \u001b[0;36mqblast\u001b[1;34m(program, database, sequence, url_base, auto_format, composition_based_statistics, db_genetic_code, endpoints, entrez_query, expect, filter, gapcosts, genetic_code, hitlist_size, i_thresh, layout, lcase_mask, matrix_name, nucl_penalty, nucl_reward, other_advanced, perc_ident, phi_pattern, query_file, query_believe_defline, query_from, query_to, searchsp_eff, service, threshold, ungapped_alignment, word_size, short_query, alignments, alignment_view, descriptions, entrez_links_new_window, expect_low, expect_high, format_entrez_query, format_object, format_type, ncbi_gi, results_file, show_overview, megablast, template_type, template_length)\u001b[0m\n\u001b[0;32m    199\u001b[0m \u001b[38;5;66;03m# Send off the initial query to qblast.\u001b[39;00m\n\u001b[0;32m    200\u001b[0m \u001b[38;5;66;03m# Note the NCBI do not currently impose a rate limit here, other\u001b[39;00m\n\u001b[0;32m    201\u001b[0m \u001b[38;5;66;03m# than the request not to make say 50 queries at once using multiple\u001b[39;00m\n\u001b[0;32m    202\u001b[0m \u001b[38;5;66;03m# threads.\u001b[39;00m\n\u001b[0;32m    203\u001b[0m request \u001b[38;5;241m=\u001b[39m Request(url_base, message, {\u001b[38;5;124m\"\u001b[39m\u001b[38;5;124mUser-Agent\u001b[39m\u001b[38;5;124m\"\u001b[39m: \u001b[38;5;124m\"\u001b[39m\u001b[38;5;124mBiopythonClient\u001b[39m\u001b[38;5;124m\"\u001b[39m})\n\u001b[1;32m--> 204\u001b[0m handle \u001b[38;5;241m=\u001b[39m \u001b[43murlopen\u001b[49m\u001b[43m(\u001b[49m\u001b[43mrequest\u001b[49m\u001b[43m)\u001b[49m\n\u001b[0;32m    206\u001b[0m \u001b[38;5;66;03m# Format the \"Get\" command, which gets the formatted results from qblast\u001b[39;00m\n\u001b[0;32m    207\u001b[0m \u001b[38;5;66;03m# Parameters taken from http://www.ncbi.nlm.nih.gov/BLAST/Doc/node6.html on 9 July 2007\u001b[39;00m\n\u001b[0;32m    208\u001b[0m rid, rtoe \u001b[38;5;241m=\u001b[39m _parse_qblast_ref_page(handle)\n",
      "File \u001b[1;32m~\\anaconda3\\lib\\urllib\\request.py:214\u001b[0m, in \u001b[0;36murlopen\u001b[1;34m(url, data, timeout, cafile, capath, cadefault, context)\u001b[0m\n\u001b[0;32m    212\u001b[0m \u001b[38;5;28;01melse\u001b[39;00m:\n\u001b[0;32m    213\u001b[0m     opener \u001b[38;5;241m=\u001b[39m _opener\n\u001b[1;32m--> 214\u001b[0m \u001b[38;5;28;01mreturn\u001b[39;00m \u001b[43mopener\u001b[49m\u001b[38;5;241;43m.\u001b[39;49m\u001b[43mopen\u001b[49m\u001b[43m(\u001b[49m\u001b[43murl\u001b[49m\u001b[43m,\u001b[49m\u001b[43m \u001b[49m\u001b[43mdata\u001b[49m\u001b[43m,\u001b[49m\u001b[43m \u001b[49m\u001b[43mtimeout\u001b[49m\u001b[43m)\u001b[49m\n",
      "File \u001b[1;32m~\\anaconda3\\lib\\urllib\\request.py:517\u001b[0m, in \u001b[0;36mOpenerDirector.open\u001b[1;34m(self, fullurl, data, timeout)\u001b[0m\n\u001b[0;32m    514\u001b[0m     req \u001b[38;5;241m=\u001b[39m meth(req)\n\u001b[0;32m    516\u001b[0m sys\u001b[38;5;241m.\u001b[39maudit(\u001b[38;5;124m'\u001b[39m\u001b[38;5;124murllib.Request\u001b[39m\u001b[38;5;124m'\u001b[39m, req\u001b[38;5;241m.\u001b[39mfull_url, req\u001b[38;5;241m.\u001b[39mdata, req\u001b[38;5;241m.\u001b[39mheaders, req\u001b[38;5;241m.\u001b[39mget_method())\n\u001b[1;32m--> 517\u001b[0m response \u001b[38;5;241m=\u001b[39m \u001b[38;5;28;43mself\u001b[39;49m\u001b[38;5;241;43m.\u001b[39;49m\u001b[43m_open\u001b[49m\u001b[43m(\u001b[49m\u001b[43mreq\u001b[49m\u001b[43m,\u001b[49m\u001b[43m \u001b[49m\u001b[43mdata\u001b[49m\u001b[43m)\u001b[49m\n\u001b[0;32m    519\u001b[0m \u001b[38;5;66;03m# post-process response\u001b[39;00m\n\u001b[0;32m    520\u001b[0m meth_name \u001b[38;5;241m=\u001b[39m protocol\u001b[38;5;241m+\u001b[39m\u001b[38;5;124m\"\u001b[39m\u001b[38;5;124m_response\u001b[39m\u001b[38;5;124m\"\u001b[39m\n",
      "File \u001b[1;32m~\\anaconda3\\lib\\urllib\\request.py:534\u001b[0m, in \u001b[0;36mOpenerDirector._open\u001b[1;34m(self, req, data)\u001b[0m\n\u001b[0;32m    531\u001b[0m     \u001b[38;5;28;01mreturn\u001b[39;00m result\n\u001b[0;32m    533\u001b[0m protocol \u001b[38;5;241m=\u001b[39m req\u001b[38;5;241m.\u001b[39mtype\n\u001b[1;32m--> 534\u001b[0m result \u001b[38;5;241m=\u001b[39m \u001b[38;5;28;43mself\u001b[39;49m\u001b[38;5;241;43m.\u001b[39;49m\u001b[43m_call_chain\u001b[49m\u001b[43m(\u001b[49m\u001b[38;5;28;43mself\u001b[39;49m\u001b[38;5;241;43m.\u001b[39;49m\u001b[43mhandle_open\u001b[49m\u001b[43m,\u001b[49m\u001b[43m \u001b[49m\u001b[43mprotocol\u001b[49m\u001b[43m,\u001b[49m\u001b[43m \u001b[49m\u001b[43mprotocol\u001b[49m\u001b[43m \u001b[49m\u001b[38;5;241;43m+\u001b[39;49m\n\u001b[0;32m    535\u001b[0m \u001b[43m                          \u001b[49m\u001b[38;5;124;43m'\u001b[39;49m\u001b[38;5;124;43m_open\u001b[39;49m\u001b[38;5;124;43m'\u001b[39;49m\u001b[43m,\u001b[49m\u001b[43m \u001b[49m\u001b[43mreq\u001b[49m\u001b[43m)\u001b[49m\n\u001b[0;32m    536\u001b[0m \u001b[38;5;28;01mif\u001b[39;00m result:\n\u001b[0;32m    537\u001b[0m     \u001b[38;5;28;01mreturn\u001b[39;00m result\n",
      "File \u001b[1;32m~\\anaconda3\\lib\\urllib\\request.py:494\u001b[0m, in \u001b[0;36mOpenerDirector._call_chain\u001b[1;34m(self, chain, kind, meth_name, *args)\u001b[0m\n\u001b[0;32m    492\u001b[0m \u001b[38;5;28;01mfor\u001b[39;00m handler \u001b[38;5;129;01min\u001b[39;00m handlers:\n\u001b[0;32m    493\u001b[0m     func \u001b[38;5;241m=\u001b[39m \u001b[38;5;28mgetattr\u001b[39m(handler, meth_name)\n\u001b[1;32m--> 494\u001b[0m     result \u001b[38;5;241m=\u001b[39m \u001b[43mfunc\u001b[49m\u001b[43m(\u001b[49m\u001b[38;5;241;43m*\u001b[39;49m\u001b[43margs\u001b[49m\u001b[43m)\u001b[49m\n\u001b[0;32m    495\u001b[0m     \u001b[38;5;28;01mif\u001b[39;00m result \u001b[38;5;129;01mis\u001b[39;00m \u001b[38;5;129;01mnot\u001b[39;00m \u001b[38;5;28;01mNone\u001b[39;00m:\n\u001b[0;32m    496\u001b[0m         \u001b[38;5;28;01mreturn\u001b[39;00m result\n",
      "File \u001b[1;32m~\\anaconda3\\lib\\urllib\\request.py:1389\u001b[0m, in \u001b[0;36mHTTPSHandler.https_open\u001b[1;34m(self, req)\u001b[0m\n\u001b[0;32m   1388\u001b[0m \u001b[38;5;28;01mdef\u001b[39;00m \u001b[38;5;21mhttps_open\u001b[39m(\u001b[38;5;28mself\u001b[39m, req):\n\u001b[1;32m-> 1389\u001b[0m     \u001b[38;5;28;01mreturn\u001b[39;00m \u001b[38;5;28;43mself\u001b[39;49m\u001b[38;5;241;43m.\u001b[39;49m\u001b[43mdo_open\u001b[49m\u001b[43m(\u001b[49m\u001b[43mhttp\u001b[49m\u001b[38;5;241;43m.\u001b[39;49m\u001b[43mclient\u001b[49m\u001b[38;5;241;43m.\u001b[39;49m\u001b[43mHTTPSConnection\u001b[49m\u001b[43m,\u001b[49m\u001b[43m \u001b[49m\u001b[43mreq\u001b[49m\u001b[43m,\u001b[49m\n\u001b[0;32m   1390\u001b[0m \u001b[43m        \u001b[49m\u001b[43mcontext\u001b[49m\u001b[38;5;241;43m=\u001b[39;49m\u001b[38;5;28;43mself\u001b[39;49m\u001b[38;5;241;43m.\u001b[39;49m\u001b[43m_context\u001b[49m\u001b[43m,\u001b[49m\u001b[43m \u001b[49m\u001b[43mcheck_hostname\u001b[49m\u001b[38;5;241;43m=\u001b[39;49m\u001b[38;5;28;43mself\u001b[39;49m\u001b[38;5;241;43m.\u001b[39;49m\u001b[43m_check_hostname\u001b[49m\u001b[43m)\u001b[49m\n",
      "File \u001b[1;32m~\\anaconda3\\lib\\urllib\\request.py:1349\u001b[0m, in \u001b[0;36mAbstractHTTPHandler.do_open\u001b[1;34m(self, http_class, req, **http_conn_args)\u001b[0m\n\u001b[0;32m   1346\u001b[0m         h\u001b[38;5;241m.\u001b[39mrequest(req\u001b[38;5;241m.\u001b[39mget_method(), req\u001b[38;5;241m.\u001b[39mselector, req\u001b[38;5;241m.\u001b[39mdata, headers,\n\u001b[0;32m   1347\u001b[0m                   encode_chunked\u001b[38;5;241m=\u001b[39mreq\u001b[38;5;241m.\u001b[39mhas_header(\u001b[38;5;124m'\u001b[39m\u001b[38;5;124mTransfer-encoding\u001b[39m\u001b[38;5;124m'\u001b[39m))\n\u001b[0;32m   1348\u001b[0m     \u001b[38;5;28;01mexcept\u001b[39;00m \u001b[38;5;167;01mOSError\u001b[39;00m \u001b[38;5;28;01mas\u001b[39;00m err: \u001b[38;5;66;03m# timeout error\u001b[39;00m\n\u001b[1;32m-> 1349\u001b[0m         \u001b[38;5;28;01mraise\u001b[39;00m URLError(err)\n\u001b[0;32m   1350\u001b[0m     r \u001b[38;5;241m=\u001b[39m h\u001b[38;5;241m.\u001b[39mgetresponse()\n\u001b[0;32m   1351\u001b[0m \u001b[38;5;28;01mexcept\u001b[39;00m:\n",
      "\u001b[1;31mURLError\u001b[0m: <urlopen error [Errno 11001] getaddrinfo failed>"
     ]
    }
   ],
   "source": [
    "result_handle = NCBIWWW.qblast(program='blastn', database='nt' ,sequence='''ggaatattacccatagaggagaatatacccccatata\n",
    "                                ttatagttttcggcgatatatagataaagatacgctctcgctctcgttctatagatatacgagcatcatactacgctcagct''')"
   ]
  },
  {
   "cell_type": "code",
   "execution_count": 67,
   "id": "1293f802",
   "metadata": {},
   "outputs": [],
   "source": [
    "from Bio.Blast import NCBIXML #the result always come in XML format, so we import NCBIXML\n",
    "blast_records = NCBIXML.parse(result_handle)"
   ]
  },
  {
   "cell_type": "code",
   "execution_count": 60,
   "id": "fc464c50",
   "metadata": {},
   "outputs": [],
   "source": [
    "# N.B: You can only go through the blast record once, so ensure you save it.\n",
    "#     You might have a problem saving it in a list if your record is large."
   ]
  },
  {
   "cell_type": "code",
   "execution_count": 68,
   "id": "29772885",
   "metadata": {},
   "outputs": [],
   "source": [
    "blast_records = list(blast_records)"
   ]
  },
  {
   "cell_type": "code",
   "execution_count": 69,
   "id": "1152dfa0",
   "metadata": {},
   "outputs": [
    {
     "data": {
      "text/plain": [
       "[<Bio.Blast.Record.Blast at 0x1af0d9b4df0>]"
      ]
     },
     "execution_count": 69,
     "metadata": {},
     "output_type": "execute_result"
    }
   ],
   "source": [
    "blast_records"
   ]
  },
  {
   "cell_type": "markdown",
   "id": "7e337d70",
   "metadata": {},
   "source": [
    "#### Exploring the BLAST Record"
   ]
  },
  {
   "cell_type": "code",
   "execution_count": 71,
   "id": "07863153",
   "metadata": {},
   "outputs": [],
   "source": [
    "# The BLAST E-value is the number of expected hits with similar quality score that could be found just by chance"
   ]
  },
  {
   "cell_type": "code",
   "execution_count": 83,
   "id": "5014d8b6",
   "metadata": {},
   "outputs": [
    {
     "ename": "AttributeError",
     "evalue": "'list' object has no attribute 'alignments'",
     "output_type": "error",
     "traceback": [
      "\u001b[1;31m---------------------------------------------------------------------------\u001b[0m",
      "\u001b[1;31mAttributeError\u001b[0m                            Traceback (most recent call last)",
      "Input \u001b[1;32mIn [83]\u001b[0m, in \u001b[0;36m<cell line: 3>\u001b[1;34m()\u001b[0m\n\u001b[0;32m      2\u001b[0m count \u001b[38;5;241m=\u001b[39m \u001b[38;5;241m0\u001b[39m\n\u001b[0;32m      3\u001b[0m \u001b[38;5;28;01mfor\u001b[39;00m record \u001b[38;5;129;01min\u001b[39;00m blast_records:\n\u001b[1;32m----> 4\u001b[0m     \u001b[38;5;28;01mfor\u001b[39;00m alignment \u001b[38;5;129;01min\u001b[39;00m \u001b[43mblast_records\u001b[49m\u001b[38;5;241;43m.\u001b[39;49m\u001b[43malignments\u001b[49m:\n\u001b[0;32m      5\u001b[0m         \u001b[38;5;28;01mfor\u001b[39;00m hsp \u001b[38;5;129;01min\u001b[39;00m alignment\u001b[38;5;241m.\u001b[39mhsps:\n\u001b[0;32m      6\u001b[0m             \u001b[38;5;28;01mif\u001b[39;00m hsp\u001b[38;5;241m.\u001b[39mexpect \u001b[38;5;241m<\u001b[39m E_VALUE_TRESH:\n",
      "\u001b[1;31mAttributeError\u001b[0m: 'list' object has no attribute 'alignments'"
     ]
    }
   ],
   "source": [
    "E_VALUE_TRESH = 0.00000000001\n",
    "count = 0\n",
    "for record in blast_records:\n",
    "    for alignment in blast_records.alignments:\n",
    "        for hsp in alignment.hsps:\n",
    "            if hsp.expect < E_VALUE_TRESH:\n",
    "                count += 1\n",
    "                print('***Alignment***')\n",
    "                print('Sequence:', alignment.title)\n",
    "                print('Length:', alignment.length)\n",
    "                print(hsp.query[0:75] + '...')\n",
    "                print(hsp.search[0:75] + '...')\n",
    "                print(hsp.sbjct[0:75] + '...')\n",
    "                print()\n",
    "                \n",
    "print(f'There are {count} similar sequences in the Blast output')"
   ]
  },
  {
   "cell_type": "markdown",
   "id": "417aefc7",
   "metadata": {},
   "source": [
    "### COVID-19 Genome Analysis"
   ]
  },
  {
   "cell_type": "code",
   "execution_count": 1,
   "id": "028cc22c",
   "metadata": {},
   "outputs": [
    {
     "data": {
      "text/plain": [
       "'See the notebook'"
      ]
     },
     "execution_count": 1,
     "metadata": {},
     "output_type": "execute_result"
    }
   ],
   "source": [
    "'''See the notebook'''"
   ]
  },
  {
   "cell_type": "markdown",
   "id": "7b935e7d",
   "metadata": {},
   "source": [
    "### Motif Objects"
   ]
  },
  {
   "cell_type": "code",
   "execution_count": 2,
   "id": "2a2647af",
   "metadata": {},
   "outputs": [],
   "source": [
    "from Bio import motifs"
   ]
  },
  {
   "cell_type": "code",
   "execution_count": 3,
   "id": "1921b03c",
   "metadata": {},
   "outputs": [],
   "source": [
    "from Bio.Seq import Seq"
   ]
  },
  {
   "cell_type": "code",
   "execution_count": 4,
   "id": "bd2600e3",
   "metadata": {},
   "outputs": [],
   "source": [
    "instances = [\n",
    "    Seq('TACAA'),\n",
    "    Seq('TACGC'),\n",
    "    Seq('TACAC'),\n",
    "    Seq('TACCC'),\n",
    "    Seq('AACCC'),\n",
    "    Seq('AATGC'),\n",
    "    Seq('AATGC')\n",
    "]"
   ]
  },
  {
   "cell_type": "code",
   "execution_count": 5,
   "id": "ff6a9ac5",
   "metadata": {},
   "outputs": [
    {
     "name": "stdout",
     "output_type": "stream",
     "text": [
      "TACAA\n",
      "TACGC\n",
      "TACAC\n",
      "TACCC\n",
      "AACCC\n",
      "AATGC\n",
      "AATGC\n",
      "\n"
     ]
    }
   ],
   "source": [
    "m = motifs.create(instances)\n",
    "print(m)"
   ]
  },
  {
   "cell_type": "code",
   "execution_count": 6,
   "id": "2a569b98",
   "metadata": {},
   "outputs": [
    {
     "data": {
      "text/plain": [
       "[Seq('TACAA'),\n",
       " Seq('TACGC'),\n",
       " Seq('TACAC'),\n",
       " Seq('TACCC'),\n",
       " Seq('AACCC'),\n",
       " Seq('AATGC'),\n",
       " Seq('AATGC')]"
      ]
     },
     "execution_count": 6,
     "metadata": {},
     "output_type": "execute_result"
    }
   ],
   "source": [
    "m.instances"
   ]
  },
  {
   "cell_type": "code",
   "execution_count": 8,
   "id": "ec1210f9",
   "metadata": {},
   "outputs": [
    {
     "name": "stdout",
     "output_type": "stream",
     "text": [
      "        0      1      2      3      4\n",
      "A:   3.00   7.00   0.00   2.00   1.00\n",
      "C:   0.00   0.00   5.00   2.00   6.00\n",
      "G:   0.00   0.00   0.00   3.00   0.00\n",
      "T:   4.00   0.00   2.00   0.00   0.00\n",
      "\n"
     ]
    }
   ],
   "source": [
    "print(m.counts) ### on the first column in the above instance, A appears thrice, while T appears 4 times, C and G, zero"
   ]
  },
  {
   "cell_type": "code",
   "execution_count": 11,
   "id": "4b7113a3",
   "metadata": {},
   "outputs": [
    {
     "data": {
      "text/plain": [
       "[3, 7, 0, 2, 1]"
      ]
     },
     "execution_count": 11,
     "metadata": {},
     "output_type": "execute_result"
    }
   ],
   "source": [
    "m.counts['A'] ### A:   3.00   7.00   0.00   2.00   1.00"
   ]
  },
  {
   "cell_type": "code",
   "execution_count": 13,
   "id": "56db2c2d",
   "metadata": {},
   "outputs": [
    {
     "data": {
      "text/plain": [
       "{'A': 2, 'C': 2, 'G': 3, 'T': 0}"
      ]
     },
     "execution_count": 13,
     "metadata": {},
     "output_type": "execute_result"
    }
   ],
   "source": [
    "m.counts[:, 3] ## showing results of the 4th column, that is, index 3"
   ]
  },
  {
   "cell_type": "code",
   "execution_count": 16,
   "id": "dadfc659",
   "metadata": {},
   "outputs": [
    {
     "name": "stdout",
     "output_type": "stream",
     "text": [
      "TACGC\n"
     ]
    }
   ],
   "source": [
    "print(m.consensus) # it returns the highest on each column.\n",
    "### on column 1,2,3,4 and 5, T,A,C,G,C is the highest respectively"
   ]
  },
  {
   "cell_type": "code",
   "execution_count": 19,
   "id": "b3a5a58f",
   "metadata": {},
   "outputs": [
    {
     "name": "stdout",
     "output_type": "stream",
     "text": [
      "CCATG\n"
     ]
    }
   ],
   "source": [
    "print(m.anticonsensus)\n",
    "# it returns the highest on each column\n",
    "### where we have teo or more that is the hughest or lowest in a column, there is a rule to define the consensus"
   ]
  },
  {
   "cell_type": "code",
   "execution_count": 20,
   "id": "b65778ee",
   "metadata": {},
   "outputs": [
    {
     "name": "stdout",
     "output_type": "stream",
     "text": [
      "WACVC\n"
     ]
    }
   ],
   "source": [
    "### read on IUPAC ambiguity code\n",
    "print(m.degenerate_consensus)"
   ]
  },
  {
   "cell_type": "markdown",
   "id": "b52df220",
   "metadata": {},
   "source": [
    "### Plotting Sequence length and GC content"
   ]
  },
  {
   "cell_type": "code",
   "execution_count": null,
   "id": "7da98a58",
   "metadata": {},
   "outputs": [],
   "source": []
  }
 ],
 "metadata": {
  "kernelspec": {
   "display_name": "Python 3 (ipykernel)",
   "language": "python",
   "name": "python3"
  },
  "language_info": {
   "codemirror_mode": {
    "name": "ipython",
    "version": 3
   },
   "file_extension": ".py",
   "mimetype": "text/x-python",
   "name": "python",
   "nbconvert_exporter": "python",
   "pygments_lexer": "ipython3",
   "version": "3.10.9"
  }
 },
 "nbformat": 4,
 "nbformat_minor": 5
}
